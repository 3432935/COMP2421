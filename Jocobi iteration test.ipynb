{
 "cells": [
  {
   "cell_type": "code",
   "execution_count": 1,
   "id": "4200268e",
   "metadata": {},
   "outputs": [],
   "source": [
    "import numpy as np\n",
    "\n",
    "\n",
    "def Jacobi_iteration(A, b, max_iteration, x0=None):\n",
    "    # To ensure that arrays are stored in double precision.\n",
    "    A = A.astype(np.float64)\n",
    "    b = b.astype(np.float64)\n",
    "\n",
    "    n = len(b)  # dimensions of the linear system of equations\n",
    "\n",
    "    for i in range(n):\n",
    "        if np.abs(A[i, i]) < 1.0e-15:\n",
    "            print(\"Diagonal element (%f %f)is zero!\" % (i, i))\n",
    "            return\n",
    "\n",
    "    P = np.zeros([n, n])  # matrix P = D^{-1}(L+U)\n",
    "    p = np.zeros(n)  # vector p = D^{-1} b\n",
    "    for i in range(n):\n",
    "        \"\"\"\n",
    "        Compute the matrix P and vector p...\n",
    "        \"\"\"\n",
    "\n",
    "    # create a new array to store the results, initialised as zero\n",
    "    x = np.zeros(n)\n",
    "    for it in range(max_iteration):\n",
    "        \"\"\"\n",
    "        Implement Jacobi iteration -- update x as a vector.\n",
    "        \"\"\"\n",
    "\n",
    "    return x\n"
   ]
  },
  {
   "cell_type": "code",
   "execution_count": 2,
   "id": "4f01919d",
   "metadata": {},
   "outputs": [
    {
     "name": "stdout",
     "output_type": "stream",
     "text": [
      "Solution by numpy solver: [-0.6  0.8]\n",
      "Solution by Jacobi iteration:  [0. 0.]\n",
      "Error:  [0. 0.]\n",
      "Residual:  [ 1. -3.]\n"
     ]
    }
   ],
   "source": [
    "# Test different linear solvers starting from the above two-dimensional linear system\n",
    "A = np.array([[3, 1], [3, 6]])\n",
    "b = np.array([-1, 3])\n",
    "x_exact = np.array([0, 0])\n",
    "\n",
    "# numpy linear solver\n",
    "x0 = np.linalg.solve(A, b)\n",
    "print(\"Solution by numpy solver:\", x0)\n",
    "\n",
    "x = Jacobi_iteration(A, b, 10)\n",
    "print(\"Solution by Jacobi iteration: \", x)\n",
    "print(\"Error: \",( x - x_exact)*10000)\n",
    "print(\"Residual: \", np.matmul(A, x) - b)\n",
    "\n"
   ]
  },
  {
   "cell_type": "code",
   "execution_count": 3,
   "id": "40257aa6",
   "metadata": {},
   "outputs": [
    {
     "name": "stdout",
     "output_type": "stream",
     "text": [
      "0.004629629629629672\n",
      "-0.5972222222222222\n",
      "0.7962962962962963\n"
     ]
    }
   ],
   "source": [
    "import math \n",
    "\n",
    "x10=0\n",
    "x20=0\n",
    "x11=0\n",
    "x22=0\n",
    "a=1\n",
    "b=0\n",
    "\n",
    "x10=-1/3-x20/3\n",
    "x21=1/2-x11/2\n",
    "x20=x21\n",
    "x11=x10\n",
    "a=math.sqrt(pow(x10+0.6,2)+pow(x21-0.8,2))\n",
    "\n",
    "\n",
    "x10=-1/3-x20/3\n",
    "x21=1/2-x11/2\n",
    "x20=x21\n",
    "x11=x10\n",
    "a=math.sqrt(pow(x10+0.6,2)+pow(x21-0.8,2))\n",
    "\n",
    "x10=-1/3-x20/3\n",
    "x21=1/2-x11/2\n",
    "x20=x21\n",
    "x11=x10\n",
    "a=math.sqrt(pow(x10+0.6,2)+pow(x21-0.8,2))\n",
    "\n",
    "x10=-1/3-x20/3\n",
    "x21=1/2-x11/2\n",
    "x20=x21\n",
    "x11=x10\n",
    "a=math.sqrt(pow(x10+0.6,2)+pow(x21-0.8,2))\n",
    "\n",
    "x10=-1/3-x20/3\n",
    "x21=1/2-x11/2\n",
    "x20=x21\n",
    "x11=x10\n",
    "a=math.sqrt(pow(x10+0.6,2)+pow(x21-0.8,2))\n",
    "\n",
    "x10=-1/3-x20/3\n",
    "x21=1/2-x11/2\n",
    "x20=x21\n",
    "x11=x10\n",
    "a=math.sqrt(pow(x10+0.6,2)+pow(x21-0.8,2))\n",
    "\n",
    "\n",
    "\n",
    "\n",
    "\n",
    "\n",
    "\n",
    "print(a)    \n",
    "print(x10)\n",
    "print(x20)"
   ]
  },
  {
   "cell_type": "code",
   "execution_count": 59,
   "id": "8e3300f0",
   "metadata": {},
   "outputs": [
    {
     "name": "stdout",
     "output_type": "stream",
     "text": [
      "16\n"
     ]
    }
   ],
   "source": [
    "c=pow(4,2)\n",
    "print(c)"
   ]
  },
  {
   "cell_type": "code",
   "execution_count": null,
   "id": "45373b29",
   "metadata": {},
   "outputs": [],
   "source": []
  },
  {
   "cell_type": "code",
   "execution_count": null,
   "id": "ed76c73c",
   "metadata": {},
   "outputs": [],
   "source": []
  }
 ],
 "metadata": {
  "kernelspec": {
   "display_name": "Python 3 (ipykernel)",
   "language": "python",
   "name": "python3"
  },
  "language_info": {
   "codemirror_mode": {
    "name": "ipython",
    "version": 3
   },
   "file_extension": ".py",
   "mimetype": "text/x-python",
   "name": "python",
   "nbconvert_exporter": "python",
   "pygments_lexer": "ipython3",
   "version": "3.9.12"
  }
 },
 "nbformat": 4,
 "nbformat_minor": 5
}
